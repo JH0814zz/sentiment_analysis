{
 "cells": [
  {
   "cell_type": "markdown",
   "metadata": {},
   "source": [
    "## 감정 분석 및 번역"
   ]
  },
  {
   "cell_type": "code",
   "execution_count": null,
   "id": "e9b89b1f",
   "metadata": {},
   "outputs": [],
   "source": [
    "from textblob import TextBlob\n",
    "from googletrans import Translator\n",
    "\n",
    "# 번역기 객체 생성\n",
    "translator = Translator()\n",
    "\n",
    "# 분석할 텍스트 입력\n",
    "text_korean = input(\">> 긍정 / 부정, 객관 / 주관을 분석할 문장을 입력해주세요: \")\n",
    "\n",
    "# 한국어를 영어로 번역\n",
    "translated = translator.translate(text_korean, src='ko', dest='en')\n",
    "\n",
    "# 번역된 텍스트\n",
    "text = translated.text\n",
    "\n",
    "# TextBlob 객체 생성\n",
    "blob = TextBlob(text)\n",
    "\n",
    "# 감정 분석\n",
    "sentiment = blob.sentiment\n",
    "\n",
    "# 감정 분석 결과를 한국어로 번역\n",
    "def translate_sentiment(polarity, subjectivity):\n",
    "    # Polarity를 백분율로 변환\n",
    "    polarity_percentage = round(polarity * 100, 2)\n",
    "    # Subjectivity를 백분율로 변환\n",
    "    subjectivity_percentage = round(subjectivity * 100, 2)\n",
    "    \n",
    "    if polarity > 0:\n",
    "        sentiment_p = \"긍정적\"\n",
    "    elif polarity < 0:\n",
    "        sentiment_p = \"부정적\"\n",
    "    else:\n",
    "        sentiment_p = \"중립적\"\n",
    "    \n",
    "    if subjectivity > 0.5:\n",
    "        sentiment_s = \"주관적\"\n",
    "    else:\n",
    "        sentiment_s = \"객관적\"\n",
    "    \n",
    "    sentiment_str = f\"감정: {sentiment_p}, 주관성: {sentiment_s}\"\n",
    "    \n",
    "    return polarity_percentage, subjectivity_percentage, sentiment_str\n",
    "\n",
    "# 백분율로 변환된 감정 분석 결과\n",
    "polarity_percentage, subjectivity_percentage, sentiment_str = translate_sentiment(sentiment.polarity, sentiment.subjectivity)\n",
    "\n",
    "# 결과 출력\n",
    "print(f\"Polarity: {polarity_percentage}% ({'긍정적' if sentiment.polarity > 0 else '부정적' if sentiment.polarity < 0 else '중립적'})\")\n",
    "print(f\"Subjectivity: {subjectivity_percentage}% ({'주관적' if sentiment.subjectivity > 0.5 else '객관적'})\")\n",
    "\n",
    "if sentiment.polarity > 0:\n",
    "    comparison = \"긍정적입니다.\"\n",
    "elif sentiment.polarity < 0:\n",
    "    comparison = \"부정적입니다.\"\n",
    "else:\n",
    "    comparison = \"중립적입니다.\"\n",
    "\n",
    "print(f\"해석: {comparison}\")"
   ]
  }
 ],
 "metadata": {
  "kernelspec": {
   "display_name": "Python 3",
   "language": "python",
   "name": "python3"
  },
  "language_info": {
   "codemirror_mode": {
    "name": "ipython",
    "version": 3
   },
   "file_extension": ".py",
   "mimetype": "text/x-python",
   "name": "python",
   "nbconvert_exporter": "python",
   "pygments_lexer": "ipython3",
   "version": "3.8.8"
  }
 },
 "nbformat": 4,
 "nbformat_minor": 5
}
